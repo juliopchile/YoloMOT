{
 "cells": [
  {
   "cell_type": "code",
   "execution_count": 24,
   "id": "b801bd66",
   "metadata": {},
   "outputs": [
    {
     "name": "stdout",
     "output_type": "stream",
     "text": [
      "53.5 93.0\n"
     ]
    }
   ],
   "source": [
    "import numpy as np\n",
    "\n",
    "lista1 = [55, 52]\n",
    "lista2 = [88, 98]\n",
    "print(np.average(lista1), np.average(lista2))"
   ]
  }
 ],
 "metadata": {
  "kernelspec": {
   "display_name": "memoria",
   "language": "python",
   "name": "python3"
  },
  "language_info": {
   "codemirror_mode": {
    "name": "ipython",
    "version": 3
   },
   "file_extension": ".py",
   "mimetype": "text/x-python",
   "name": "python",
   "nbconvert_exporter": "python",
   "pygments_lexer": "ipython3",
   "version": "3.12.9"
  }
 },
 "nbformat": 4,
 "nbformat_minor": 5
}
